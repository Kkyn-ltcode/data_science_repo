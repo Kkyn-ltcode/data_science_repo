{
 "cells": [
  {
   "cell_type": "code",
   "execution_count": 20,
   "id": "26f8e8f5-2f9c-4939-99c3-b504492f05fc",
   "metadata": {},
   "outputs": [],
   "source": [
    "import warnings\n",
    "warnings.filterwarnings('ignore')\n",
    "import matplotlib.pyplot as plt\n",
    "import keras \n",
    "from keras.datasets import imdb\n",
    "from keras import models\n",
    "from keras import layers\n",
    "import numpy as np"
   ]
  },
  {
   "cell_type": "code",
   "execution_count": 7,
   "id": "18143bf1-7db0-41de-8d0f-8c0f0922f719",
   "metadata": {},
   "outputs": [],
   "source": [
    "(train_data, train_labels), (test_data, test_labels) = imdb.load_data(num_words=10000)"
   ]
  },
  {
   "cell_type": "code",
   "execution_count": 11,
   "id": "0c872be8-666a-4212-bfe1-06841d78c8aa",
   "metadata": {},
   "outputs": [],
   "source": [
    "def vectorize_sequence(sequences, dimension=10000):\n",
    "    result = np.zeros((len(sequences), dimension))\n",
    "    for index, sequence in enumerate(sequences):\n",
    "        result[index, sequence] = 1\n",
    "    return result"
   ]
  },
  {
   "cell_type": "code",
   "execution_count": 12,
   "id": "5f9f853d-d57c-4f35-8d39-7164bf1a305f",
   "metadata": {},
   "outputs": [],
   "source": [
    "x_train = vectorize_sequence(train_data)\n",
    "x_test = vectorize_sequence(test_data)"
   ]
  },
  {
   "cell_type": "code",
   "execution_count": 18,
   "id": "68b26f48-e5ba-43f4-a83a-3090eeca4d61",
   "metadata": {},
   "outputs": [],
   "source": [
    "y_train = train_labels.astype(np.float32)\n",
    "y_test = test_labels.astype(np.float32)"
   ]
  },
  {
   "cell_type": "code",
   "execution_count": 24,
   "id": "a96238d8-358c-47ee-ae49-4cf5bd4e038e",
   "metadata": {},
   "outputs": [],
   "source": [
    "x_val = x_train[:10000]\n",
    "x_train_new = x_train[10000:]\n",
    "y_val = y_train[:10000]\n",
    "y_train_new = y_train[10000:]"
   ]
  },
  {
   "cell_type": "code",
   "execution_count": 65,
   "id": "3ae61245-34b9-423e-aa7e-29cc2966c3e0",
   "metadata": {},
   "outputs": [],
   "source": [
    "def build_model(parameters):\n",
    "    model = models.Sequential([\n",
    "        layers.Dense(parameters, activation='relu', input_shape=(10000,)),\n",
    "        layers.Dense(parameters, activation='relu'),\n",
    "        layers.Dense(1, activation='sigmoid')\n",
    "    ])\n",
    "    model.compile(optimizer='rmsprop', loss='binary_crossentropy', metrics=['accuracy'])\n",
    "    return model"
   ]
  },
  {
   "cell_type": "code",
   "execution_count": 66,
   "id": "11929ab0-e793-4b84-80f5-3fbaf8c30f54",
   "metadata": {},
   "outputs": [],
   "source": [
    "model = build_model(16)\n",
    "history1 = model.fit(x_train_new, y_train_new, validation_data=(x_val, y_val),\n",
    "                     epochs=20, batch_size=512, verbose=0)"
   ]
  },
  {
   "cell_type": "code",
   "execution_count": 67,
   "id": "102b86b9-9891-4ac5-8911-1b5c5f4ee515",
   "metadata": {
    "collapsed": true,
    "jupyter": {
     "outputs_hidden": true
    },
    "tags": []
   },
   "outputs": [
    {
     "name": "stdout",
     "output_type": "stream",
     "text": [
      "Train on 15000 samples, validate on 10000 samples\n",
      "Epoch 1/20\n",
      "15000/15000 [==============================] - 2s 134us/step - loss: 0.6120 - accuracy: 0.6453 - val_loss: 0.5687 - val_accuracy: 0.7729\n",
      "Epoch 2/20\n",
      "15000/15000 [==============================] - 1s 97us/step - loss: 0.5274 - accuracy: 0.7890 - val_loss: 0.5258 - val_accuracy: 0.7926\n",
      "Epoch 3/20\n",
      "15000/15000 [==============================] - 1s 91us/step - loss: 0.4823 - accuracy: 0.8471 - val_loss: 0.5033 - val_accuracy: 0.8003\n",
      "Epoch 4/20\n",
      "15000/15000 [==============================] - 1s 92us/step - loss: 0.4496 - accuracy: 0.8802 - val_loss: 0.4797 - val_accuracy: 0.8554\n",
      "Epoch 5/20\n",
      "15000/15000 [==============================] - 1s 94us/step - loss: 0.4243 - accuracy: 0.9035 - val_loss: 0.4661 - val_accuracy: 0.8737\n",
      "Epoch 6/20\n",
      "15000/15000 [==============================] - 1s 96us/step - loss: 0.4017 - accuracy: 0.9215 - val_loss: 0.4572 - val_accuracy: 0.8698\n",
      "Epoch 7/20\n",
      "15000/15000 [==============================] - 1s 94us/step - loss: 0.3832 - accuracy: 0.9347 - val_loss: 0.4479 - val_accuracy: 0.8827\n",
      "Epoch 8/20\n",
      "15000/15000 [==============================] - 1s 96us/step - loss: 0.3668 - accuracy: 0.9462 - val_loss: 0.4581 - val_accuracy: 0.8546\n",
      "Epoch 9/20\n",
      "15000/15000 [==============================] - 1s 91us/step - loss: 0.3511 - accuracy: 0.9514 - val_loss: 0.4517 - val_accuracy: 0.8653\n",
      "Epoch 10/20\n",
      "15000/15000 [==============================] - 1s 95us/step - loss: 0.3376 - accuracy: 0.9598 - val_loss: 0.4753 - val_accuracy: 0.8451\n",
      "Epoch 11/20\n",
      "15000/15000 [==============================] - 1s 97us/step - loss: 0.3243 - accuracy: 0.9649 - val_loss: 0.4779 - val_accuracy: 0.8481\n",
      "Epoch 12/20\n",
      "15000/15000 [==============================] - 1s 97us/step - loss: 0.3125 - accuracy: 0.9697 - val_loss: 0.4780 - val_accuracy: 0.8511\n",
      "Epoch 13/20\n",
      "15000/15000 [==============================] - 1s 94us/step - loss: 0.3013 - accuracy: 0.9727 - val_loss: 0.4629 - val_accuracy: 0.8625\n",
      "Epoch 14/20\n",
      "15000/15000 [==============================] - 1s 94us/step - loss: 0.2904 - accuracy: 0.9776 - val_loss: 0.4984 - val_accuracy: 0.8482\n",
      "Epoch 15/20\n",
      "15000/15000 [==============================] - 1s 96us/step - loss: 0.2805 - accuracy: 0.9803 - val_loss: 0.4649 - val_accuracy: 0.8653\n",
      "Epoch 16/20\n",
      "15000/15000 [==============================] - 1s 98us/step - loss: 0.2716 - accuracy: 0.9832 - val_loss: 0.5048 - val_accuracy: 0.8532\n",
      "Epoch 17/20\n",
      "15000/15000 [==============================] - 2s 101us/step - loss: 0.2626 - accuracy: 0.9855 - val_loss: 0.5159 - val_accuracy: 0.8531\n",
      "Epoch 18/20\n",
      "15000/15000 [==============================] - 1s 96us/step - loss: 0.2542 - accuracy: 0.9861 - val_loss: 0.4941 - val_accuracy: 0.8623\n",
      "Epoch 19/20\n",
      "15000/15000 [==============================] - 1s 92us/step - loss: 0.2465 - accuracy: 0.9875 - val_loss: 0.5437 - val_accuracy: 0.8522\n",
      "Epoch 20/20\n",
      "15000/15000 [==============================] - 1s 95us/step - loss: 0.2392 - accuracy: 0.9885 - val_loss: 0.5385 - val_accuracy: 0.8540\n"
     ]
    }
   ],
   "source": [
    "model2 = build_model(4)\n",
    "history2 = model2.fit(x_train_new, y_train_new, validation_data=(x_val, y_val), \n",
    "                     epochs=20, batch_size=512)"
   ]
  },
  {
   "cell_type": "code",
   "execution_count": 71,
   "id": "3b655677-6f39-4587-ab42-5d8fa73aa0ad",
   "metadata": {},
   "outputs": [
    {
     "name": "stdout",
     "output_type": "stream",
     "text": [
      "Train on 15000 samples, validate on 10000 samples\n",
      "Epoch 1/20\n",
      "15000/15000 [==============================] - 2s 124us/step - loss: 0.4823 - accuracy: 0.7880 - val_loss: 0.3369 - val_accuracy: 0.8780\n",
      "Epoch 2/20\n",
      "15000/15000 [==============================] - 1s 45us/step - loss: 0.2635 - accuracy: 0.9060 - val_loss: 0.4192 - val_accuracy: 0.8193\n",
      "Epoch 3/20\n",
      "15000/15000 [==============================] - 1s 40us/step - loss: 0.1989 - accuracy: 0.9290 - val_loss: 0.2763 - val_accuracy: 0.8871\n",
      "Epoch 4/20\n",
      "15000/15000 [==============================] - 1s 41us/step - loss: 0.1538 - accuracy: 0.9481 - val_loss: 0.3647 - val_accuracy: 0.8604\n",
      "Epoch 5/20\n",
      "15000/15000 [==============================] - 1s 40us/step - loss: 0.1218 - accuracy: 0.9571 - val_loss: 0.3051 - val_accuracy: 0.8831\n",
      "Epoch 6/20\n",
      "15000/15000 [==============================] - 1s 39us/step - loss: 0.0993 - accuracy: 0.9666 - val_loss: 0.3322 - val_accuracy: 0.8819\n",
      "Epoch 7/20\n",
      "15000/15000 [==============================] - 1s 39us/step - loss: 0.0781 - accuracy: 0.9752 - val_loss: 0.3984 - val_accuracy: 0.8680\n",
      "Epoch 8/20\n",
      "15000/15000 [==============================] - 1s 39us/step - loss: 0.0634 - accuracy: 0.9796 - val_loss: 0.3907 - val_accuracy: 0.8767\n",
      "Epoch 9/20\n",
      "15000/15000 [==============================] - 1s 39us/step - loss: 0.0480 - accuracy: 0.9873 - val_loss: 0.4178 - val_accuracy: 0.8761\n",
      "Epoch 10/20\n",
      "15000/15000 [==============================] - 1s 39us/step - loss: 0.0415 - accuracy: 0.9880 - val_loss: 0.4563 - val_accuracy: 0.8741\n",
      "Epoch 11/20\n",
      "15000/15000 [==============================] - 1s 39us/step - loss: 0.0335 - accuracy: 0.9912 - val_loss: 0.4861 - val_accuracy: 0.8722\n",
      "Epoch 12/20\n",
      "15000/15000 [==============================] - 1s 39us/step - loss: 0.0290 - accuracy: 0.9921 - val_loss: 0.5206 - val_accuracy: 0.8717\n",
      "Epoch 13/20\n",
      "15000/15000 [==============================] - 1s 39us/step - loss: 0.0157 - accuracy: 0.9969 - val_loss: 0.6637 - val_accuracy: 0.8546\n",
      "Epoch 14/20\n",
      "15000/15000 [==============================] - 1s 40us/step - loss: 0.0096 - accuracy: 0.9995 - val_loss: 0.5963 - val_accuracy: 0.8692\n",
      "Epoch 15/20\n",
      "15000/15000 [==============================] - 1s 41us/step - loss: 0.0219 - accuracy: 0.9939 - val_loss: 0.6298 - val_accuracy: 0.8668\n",
      "Epoch 16/20\n",
      "15000/15000 [==============================] - 1s 42us/step - loss: 0.0043 - accuracy: 0.9998 - val_loss: 0.6665 - val_accuracy: 0.8663\n",
      "Epoch 17/20\n",
      "15000/15000 [==============================] - 1s 40us/step - loss: 0.0124 - accuracy: 0.9966 - val_loss: 0.7164 - val_accuracy: 0.8651\n",
      "Epoch 18/20\n",
      "15000/15000 [==============================] - 1s 44us/step - loss: 0.0026 - accuracy: 0.9999 - val_loss: 0.7406 - val_accuracy: 0.8650\n",
      "Epoch 19/20\n",
      "15000/15000 [==============================] - 1s 43us/step - loss: 0.0146 - accuracy: 0.9949 - val_loss: 0.7729 - val_accuracy: 0.8667\n",
      "Epoch 20/20\n",
      "15000/15000 [==============================] - 1s 39us/step - loss: 0.0014 - accuracy: 0.9999 - val_loss: 0.7996 - val_accuracy: 0.8652\n"
     ]
    }
   ],
   "source": [
    "model3 = build_model(32)\n",
    "history3 = model3.fit(x_train_new, y_train_new, validation_data=(x_val, y_val), \n",
    "                     epochs=20, batch_size=512)"
   ]
  },
  {
   "cell_type": "code",
   "execution_count": 72,
   "id": "f14cd696-fded-434a-984b-69fb0d2c0954",
   "metadata": {},
   "outputs": [
    {
     "data": {
      "image/png": "[encoded data removed]",
      "text/plain": [
       "<Figure size 720x360 with 1 Axes>"
      ]
     },
     "metadata": {
      "needs_background": "light"
     },
     "output_type": "display_data"
    }
   ],
   "source": [
    "fig, ax = plt.subplots(1, 1, figsize=(10, 5))\n",
    "ax.plot(history1.epoch, history1.history['val_loss'], 'b-', label='16')\n",
    "ax.plot(history2.epoch, history2.history['val_loss'], 'b--', label='4')\n",
    "ax.plot(history3.epoch, history3.history['val_loss'], 'b+', label='512')\n",
    "ax.set_xlabel('Epochs')\n",
    "ax.set_ylabel('Loss')\n",
    "plt.legend()\n",
    "plt.show()"
   ]
  },
  {
   "cell_type": "code",
   "execution_count": null,
   "id": "4e6731d1-4fa0-4fd3-9b1a-d3c400d9c7f4",
   "metadata": {},
   "outputs": [],
   "source": []
  },
  {
   "cell_type": "code",
   "execution_count": null,
   "id": "3cc10600-cfb3-4a55-9865-109182f90ac9",
   "metadata": {},
   "outputs": [],
   "source": []
  }
 ],
 "metadata": {
  "kernelspec": {
   "display_name": "Python 3 (ipykernel)",
   "language": "python",
   "name": "python3"
  },
  "language_info": {
   "codemirror_mode": {
    "name": "ipython",
    "version": 3
   },
   "file_extension": ".py",
   "mimetype": "text/x-python",
   "name": "python",
   "nbconvert_exporter": "python",
   "pygments_lexer": "ipython3",
   "version": "3.7.11"
  }
 },
 "nbformat": 4,
 "nbformat_minor": 5
}
