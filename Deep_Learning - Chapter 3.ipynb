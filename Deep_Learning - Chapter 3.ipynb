{
 "cells": [
  {
   "cell_type": "code",
   "execution_count": 22,
   "id": "96c96dd3-52fa-4544-b207-6d9f46b6a500",
   "metadata": {},
   "outputs": [],
   "source": [
    "import warnings \n",
    "warnings.filterwarnings('ignore')\n",
    "tf.get_logger().setLevel('ERROR')\n",
    "import tensorflow as tf\n",
    "import numpy as np\n",
    "import keras\n",
    "from keras.datasets import imdb\n",
    "from keras.datasets import reuters\n",
    "from keras import layers\n",
    "from keras import models\n",
    "import matplotlib.pyplot as plt\n",
    "from keras.utils.np_utils import to_categorical"
   ]
  },
  {
   "cell_type": "markdown",
   "id": "79e683ff-862e-4df2-88f2-24a9e70c5e51",
   "metadata": {},
   "source": [
    "# IMDB \n"
   ]
  },
  {
   "cell_type": "code",
   "execution_count": 3,
   "id": "5e299594-2b03-4add-9871-0b304f2cedee",
   "metadata": {
    "tags": []
   },
   "outputs": [],
   "source": [
    "(train_data, train_labels), (test_data, test_labels) = imdb.load_data(num_words=10000)"
   ]
  },
  {
   "cell_type": "code",
   "execution_count": 4,
   "id": "3d4a9284-f461-432d-9931-71d7fec0e4b9",
   "metadata": {
    "tags": []
   },
   "outputs": [],
   "source": [
    "word_index = imdb.get_word_index()"
   ]
  },
  {
   "cell_type": "code",
   "execution_count": 5,
   "id": "bb6c7517-3aea-487f-b815-2bb5e68302de",
   "metadata": {},
   "outputs": [],
   "source": [
    "reverse_word_index = {value: key for (key, value) in word_index.items()}"
   ]
  },
  {
   "cell_type": "code",
   "execution_count": 6,
   "id": "a20df7a4-1a23-4185-8e0a-013ee4b54494",
   "metadata": {},
   "outputs": [
    {
     "data": {
      "text/plain": [
       "\"? this film was just brilliant casting location scenery story direction everyone's really suited the part they played and you could just imagine being there robert ? is an amazing actor and now the same being director ? father came from the same scottish island as myself so i loved the fact there was a real connection with this film the witty remarks throughout the film were great it was just brilliant so much that i bought the film as soon as it was released for ? and would recommend it to everyone to watch and the fly fishing was amazing really cried at the end it was so sad and you know what they say if you cry at a film it must have been good and this definitely was also ? to the two little boy's that played the ? of norman and paul they were just brilliant children are often left out of the ? list i think because the stars that play them all grown up are such a big profile for the whole film but these children are amazing and should be praised for what they have done don't you think the whole story was so lovely because it was true and was someone's life after all that was shared with us all\""
      ]
     },
     "execution_count": 6,
     "metadata": {},
     "output_type": "execute_result"
    }
   ],
   "source": [
    "reverse_word_index = dict(sorted(reverse_word_index.items(), key=lambda item: item[0]))\n",
    "decoded_review = ' '.join([reverse_word_index.get(i - 3, '?') for i in train_data[0]])\n",
    "decoded_review"
   ]
  },
  {
   "cell_type": "code",
   "execution_count": 7,
   "id": "3eb9cc74-9c50-40a1-9ee9-99c0fe75f29f",
   "metadata": {},
   "outputs": [],
   "source": [
    "def vectorize_sequences(sequences, dimension=10000):\n",
    "    result = np.zeros((len(sequences), dimension))\n",
    "    for index, sequence in enumerate(sequences):\n",
    "        result[index, sequence] = 1.\n",
    "    return result"
   ]
  },
  {
   "cell_type": "code",
   "execution_count": 8,
   "id": "9d324f90-cba3-47d4-9654-8e5bc7303aa6",
   "metadata": {},
   "outputs": [],
   "source": [
    "x_train = vectorize_sequences(train_data)\n",
    "x_test = vectorize_sequences(test_data)"
   ]
  },
  {
   "cell_type": "code",
   "execution_count": 9,
   "id": "308a1a15-c4cf-43d6-ab0c-60f0ae800cee",
   "metadata": {},
   "outputs": [],
   "source": [
    "y_train = np.asarray(train_labels, dtype=np.float32)\n",
    "y_test = np.asarray(test_labels, dtype=np.float32)"
   ]
  },
  {
   "cell_type": "code",
   "execution_count": 10,
   "id": "1ef8e583-4762-4544-84b9-d6ec48713f34",
   "metadata": {},
   "outputs": [],
   "source": [
    "x_val = x_train[:10000]\n",
    "x_train_new = x_train[10000:]\n",
    "y_val = y_train[:10000]\n",
    "y_train_new = y_train[10000:]"
   ]
  },
  {
   "cell_type": "code",
   "execution_count": 11,
   "id": "6ae797cf-d486-4bb0-b770-d19495305fbf",
   "metadata": {},
   "outputs": [
    {
     "name": "stderr",
     "output_type": "stream",
     "text": [
      "2021-08-30 07:43:55.469211: I tensorflow/core/platform/cpu_feature_guard.cc:145] This TensorFlow binary is optimized with Intel(R) MKL-DNN to use the following CPU instructions in performance critical operations:  SSE4.1 SSE4.2\n",
      "To enable them in non-MKL-DNN operations, rebuild TensorFlow with the appropriate compiler flags.\n",
      "2021-08-30 07:43:55.469987: I tensorflow/core/common_runtime/process_util.cc:115] Creating new thread pool with default inter op setting: 8. Tune using inter_op_parallelism_threads for best performance.\n"
     ]
    },
    {
     "name": "stdout",
     "output_type": "stream",
     "text": [
      "Train on 15000 samples, validate on 10000 samples\n",
      "Epoch 1/20\n",
      "15000/15000 [==============================] - 2s 126us/step - loss: 0.5170 - accuracy: 0.7765 - val_loss: 0.3995 - val_accuracy: 0.8533\n",
      "Epoch 2/20\n",
      "15000/15000 [==============================] - 1s 45us/step - loss: 0.3042 - accuracy: 0.9053 - val_loss: 0.3072 - val_accuracy: 0.8859\n",
      "Epoch 3/20\n",
      "15000/15000 [==============================] - 1s 45us/step - loss: 0.2229 - accuracy: 0.9271 - val_loss: 0.2830 - val_accuracy: 0.8889\n",
      "Epoch 4/20\n",
      "15000/15000 [==============================] - 1s 55us/step - loss: 0.1748 - accuracy: 0.9447 - val_loss: 0.2746 - val_accuracy: 0.8897\n",
      "Epoch 5/20\n",
      "15000/15000 [==============================] - 1s 41us/step - loss: 0.1441 - accuracy: 0.9537 - val_loss: 0.2903 - val_accuracy: 0.8846\n",
      "Epoch 6/20\n",
      "15000/15000 [==============================] - 1s 42us/step - loss: 0.1229 - accuracy: 0.9606 - val_loss: 0.2933 - val_accuracy: 0.8864\n",
      "Epoch 7/20\n",
      "15000/15000 [==============================] - 1s 49us/step - loss: 0.0992 - accuracy: 0.9707 - val_loss: 0.3079 - val_accuracy: 0.8835\n",
      "Epoch 8/20\n",
      "15000/15000 [==============================] - 1s 36us/step - loss: 0.0865 - accuracy: 0.9746 - val_loss: 0.3294 - val_accuracy: 0.8817\n",
      "Epoch 9/20\n",
      "15000/15000 [==============================] - 1s 37us/step - loss: 0.0716 - accuracy: 0.9804 - val_loss: 0.3690 - val_accuracy: 0.8769\n",
      "Epoch 10/20\n",
      "15000/15000 [==============================] - 1s 35us/step - loss: 0.0588 - accuracy: 0.9849 - val_loss: 0.3721 - val_accuracy: 0.8786\n",
      "Epoch 11/20\n",
      "15000/15000 [==============================] - 1s 34us/step - loss: 0.0508 - accuracy: 0.9877 - val_loss: 0.4056 - val_accuracy: 0.8774\n",
      "Epoch 12/20\n",
      "15000/15000 [==============================] - 1s 41us/step - loss: 0.0414 - accuracy: 0.9902 - val_loss: 0.4245 - val_accuracy: 0.8742\n",
      "Epoch 13/20\n",
      "15000/15000 [==============================] - 1s 45us/step - loss: 0.0340 - accuracy: 0.9931 - val_loss: 0.4566 - val_accuracy: 0.8742\n",
      "Epoch 14/20\n",
      "15000/15000 [==============================] - 1s 41us/step - loss: 0.0284 - accuracy: 0.9945 - val_loss: 0.4944 - val_accuracy: 0.8726\n",
      "Epoch 15/20\n",
      "15000/15000 [==============================] - 1s 41us/step - loss: 0.0231 - accuracy: 0.9962 - val_loss: 0.5168 - val_accuracy: 0.8691\n",
      "Epoch 16/20\n",
      "15000/15000 [==============================] - 1s 40us/step - loss: 0.0159 - accuracy: 0.9982 - val_loss: 0.5504 - val_accuracy: 0.8679\n",
      "Epoch 17/20\n",
      "15000/15000 [==============================] - 1s 37us/step - loss: 0.0159 - accuracy: 0.9978 - val_loss: 0.5828 - val_accuracy: 0.8673\n",
      "Epoch 18/20\n",
      "15000/15000 [==============================] - 1s 37us/step - loss: 0.0121 - accuracy: 0.9987 - val_loss: 0.6220 - val_accuracy: 0.8639\n",
      "Epoch 19/20\n",
      "15000/15000 [==============================] - 1s 38us/step - loss: 0.0096 - accuracy: 0.9986 - val_loss: 0.6490 - val_accuracy: 0.8662\n",
      "Epoch 20/20\n",
      "15000/15000 [==============================] - ETA: 0s - loss: 0.0080 - accuracy: 0.99 - 1s 36us/step - loss: 0.0082 - accuracy: 0.9992 - val_loss: 0.6880 - val_accuracy: 0.8647\n"
     ]
    }
   ],
   "source": [
    "model = models.Sequential([\n",
    "    layers.Dense(16, activation='relu', input_shape=(10000,)),\n",
    "    layers.Dense(16, activation='relu'),\n",
    "    layers.Dense(1, activation='sigmoid')\n",
    "])\n",
    "\n",
    "model.compile(optimizer='rmsprop', loss='binary_crossentropy', metrics=['accuracy'])\n",
    "\n",
    "history = model.fit(x_train_new, y_train_new, validation_data=(x_val, y_val), epochs=20, batch_size=512)"
   ]
  },
  {
   "cell_type": "code",
   "execution_count": 73,
   "id": "114fcb88-306f-4d6c-87ef-26e4bc5c6502",
   "metadata": {},
   "outputs": [],
   "source": [
    "def plot_loss(history):\n",
    "    epoch = history.epoch\n",
    "    val_loss = history.history['val_loss']\n",
    "    train_loss = history.history['loss']\n",
    "\n",
    "    plt.plot(epoch, val_loss, 'b--', label='Val_loss')\n",
    "    plt.plot(epoch, train_loss, 'b', label='Train_loss')\n",
    "    plt.xlabel('Epoch', family='serif')\n",
    "    plt.ylabel('Loss', family='serif')\n",
    "    plt.legend()\n",
    "    plt.tight_layout()\n",
    "    plt.show()"
   ]
  },
  {
   "cell_type": "code",
   "execution_count": 13,
   "id": "d25ce39b-68ef-4ad0-8e0f-8c1996417fb9",
   "metadata": {},
   "outputs": [
    {
     "data": {
      "text/plain": [
       "dict_keys(['val_loss', 'val_accuracy', 'loss', 'accuracy'])"
      ]
     },
     "execution_count": 13,
     "metadata": {},
     "output_type": "execute_result"
    }
   ],
   "source": [
    "history.history.keys()"
   ]
  },
  {
   "cell_type": "code",
   "execution_count": 76,
   "id": "318fa985-f938-4149-934c-d216b1c3c7c9",
   "metadata": {},
   "outputs": [],
   "source": [
    "def plot_acccuracy(history):\n",
    "    epoch = history.epoch\n",
    "    val_acc = history.history['val_accuracy']\n",
    "    train_acc = history.history['accuracy']\n",
    "\n",
    "    plt.plot(epoch, val_acc, 'b--', label='Val_acc')\n",
    "    plt.plot(epoch, train_acc, 'b', label='Train_acc')\n",
    "    plt.xlabel('Epoch', family='serif')\n",
    "    plt.ylabel('Accuracy', family='serif')\n",
    "    plt.legend()\n",
    "    plt.tight_layout()\n",
    "    plt.show()"
   ]
  },
  {
   "cell_type": "code",
   "execution_count": 15,
   "id": "e066d44d-4bbb-4152-ae84-7b7c83b7851a",
   "metadata": {},
   "outputs": [
    {
     "name": "stdout",
     "output_type": "stream",
     "text": [
      "Train on 15000 samples, validate on 10000 samples\n",
      "Epoch 1/4\n",
      "15000/15000 [==============================] - 1s 90us/step - loss: 0.5241 - accuracy: 0.7841 - val_loss: 0.3931 - val_accuracy: 0.8717\n",
      "Epoch 2/4\n",
      "15000/15000 [==============================] - 1s 52us/step - loss: 0.3107 - accuracy: 0.9034 - val_loss: 0.3127 - val_accuracy: 0.8817\n",
      "Epoch 3/4\n",
      "15000/15000 [==============================] - 1s 48us/step - loss: 0.2287 - accuracy: 0.9243 - val_loss: 0.2828 - val_accuracy: 0.8899\n",
      "Epoch 4/4\n",
      "15000/15000 [==============================] - 1s 51us/step - loss: 0.1772 - accuracy: 0.9436 - val_loss: 0.2770 - val_accuracy: 0.8897\n"
     ]
    }
   ],
   "source": [
    "model = models.Sequential([\n",
    "    layers.Dense(16, activation='relu', input_shape=(10000,)),\n",
    "    layers.Dense(16, activation='relu'),\n",
    "    layers.Dense(1, activation='sigmoid')\n",
    "])\n",
    "\n",
    "model.compile(optimizer='rmsprop', loss='binary_crossentropy', metrics=['accuracy'])\n",
    "\n",
    "history = model.fit(x_train_new, y_train_new, validation_data=(x_val, y_val), epochs=4, batch_size=512)"
   ]
  },
  {
   "cell_type": "code",
   "execution_count": 16,
   "id": "bc7f441b-bf17-46c0-a57c-f7b888ba84e4",
   "metadata": {},
   "outputs": [
    {
     "name": "stdout",
     "output_type": "stream",
     "text": [
      "25000/25000 [==============================] - 2s 69us/step\n"
     ]
    },
    {
     "data": {
      "text/plain": [
       "[0.2986239148712158, 0.8799200057983398]"
      ]
     },
     "execution_count": 16,
     "metadata": {},
     "output_type": "execute_result"
    }
   ],
   "source": [
    "model.evaluate(x_test, y_test)"
   ]
  },
  {
   "cell_type": "markdown",
   "id": "d8b1ae27-a974-4520-9f17-7a6fe325fbed",
   "metadata": {},
   "source": [
    "# Reuters Datasets"
   ]
  },
  {
   "cell_type": "code",
   "execution_count": 17,
   "id": "ea5f3278-da3f-4373-b405-8b651bb1f215",
   "metadata": {},
   "outputs": [
    {
     "name": "stdout",
     "output_type": "stream",
     "text": [
      "Downloading data from https://s3.amazonaws.com/text-datasets/reuters.npz\n",
      "2113536/2110848 [==============================] - 7s 3us/step\n"
     ]
    }
   ],
   "source": [
    "(train_data, train_labels), (test_data, test_labels) = reuters.load_data(num_words=10000)"
   ]
  },
  {
   "cell_type": "code",
   "execution_count": 19,
   "id": "0d84c4ec-426b-4adb-b221-bad3d12e83ac",
   "metadata": {},
   "outputs": [],
   "source": [
    "x_train = vectorize_sequences(train_data)\n",
    "x_test = vectorize_sequences(test_data)"
   ]
  },
  {
   "cell_type": "code",
   "execution_count": 43,
   "id": "8063a85f-a77e-43af-b8fb-1a10fe9187c7",
   "metadata": {},
   "outputs": [],
   "source": [
    "def to_one_hot(labels, dimension=46):\n",
    "    result = np.zeros((len(labels), dimension), dtype=np.float32)\n",
    "    for index, label in enumerate(labels):\n",
    "        result[index, label] = 1.\n",
    "    return result"
   ]
  },
  {
   "cell_type": "code",
   "execution_count": 44,
   "id": "6669de86-99a7-47fc-b677-d55f54369839",
   "metadata": {},
   "outputs": [],
   "source": [
    "y_train = to_one_hot(train_labels)\n",
    "y_test = to_one_hot(test_labels)"
   ]
  },
  {
   "cell_type": "code",
   "execution_count": 55,
   "id": "4f952e89-fff0-4c99-88d6-fd0869e79423",
   "metadata": {},
   "outputs": [],
   "source": [
    "x_val = x_train[:1000]\n",
    "x_train_new = x_train[1000:]\n",
    "y_val = y_train[:1000]\n",
    "y_train_new = y_train[1000:]"
   ]
  },
  {
   "cell_type": "code",
   "execution_count": 57,
   "id": "21badc98-1913-4c1b-8b77-c4faac39cee1",
   "metadata": {},
   "outputs": [],
   "source": [
    "model = models.Sequential([\n",
    "    layers.Dense(64, activation='relu', input_shape=(10000,)),\n",
    "    layers.Dense(64, activation='relu'),\n",
    "    layers.Dense(46, activation='softmax')\n",
    "])\n",
    "\n",
    "model.compile(optimizer='rmsprop', loss='categorical_crossentropy', metrics=['accuracy'])\n",
    "\n",
    "history = model.fit(x_train_new, y_train_new, epochs=20, batch_size=512, validation_data=(x_val, y_val))"
   ]
  },
  {
   "cell_type": "code",
   "execution_count": 79,
   "id": "fc2ce82a-59b9-4cb0-9afe-0eaf977aea4d",
   "metadata": {},
   "outputs": [
    {
     "data": {
      "image/png": "[encoded data removed]",
      "text/plain": [
       "<Figure size 432x288 with 1 Axes>"
      ]
     },
     "metadata": {
      "needs_background": "light"
     },
     "output_type": "display_data"
    }
   ],
   "source": [
    "plot_acccuracy(history)"
   ]
  },
  {
   "cell_type": "code",
   "execution_count": 78,
   "id": "f7a13448-2cca-4e89-8f38-768ee2aca642",
   "metadata": {},
   "outputs": [
    {
     "data": {
      "image/png": "[encoded data removed]",
      "text/plain": [
       "<Figure size 432x288 with 1 Axes>"
      ]
     },
     "metadata": {
      "needs_background": "light"
     },
     "output_type": "display_data"
    }
   ],
   "source": [
    "plot_loss(history)"
   ]
  },
  {
   "cell_type": "code",
   "execution_count": 100,
   "id": "1fa3426c-6e4b-4481-aa9e-8ad1ea75410f",
   "metadata": {},
   "outputs": [
    {
     "name": "stdout",
     "output_type": "stream",
     "text": [
      "Train on 7982 samples, validate on 1000 samples\n",
      "Epoch 1/9\n",
      "7982/7982 [==============================] - 1s 125us/step - loss: 2.6687 - accuracy: 0.5227 - val_loss: 1.7645 - val_accuracy: 0.6280\n",
      "Epoch 2/9\n",
      "7982/7982 [==============================] - 0s 56us/step - loss: 1.4327 - accuracy: 0.7035 - val_loss: 1.3081 - val_accuracy: 0.7080\n",
      "Epoch 3/9\n",
      "7982/7982 [==============================] - 0s 54us/step - loss: 1.0384 - accuracy: 0.7844 - val_loss: 1.1262 - val_accuracy: 0.7700\n",
      "Epoch 4/9\n",
      "7982/7982 [==============================] - 0s 54us/step - loss: 0.8106 - accuracy: 0.8292 - val_loss: 1.0410 - val_accuracy: 0.7900\n",
      "Epoch 5/9\n",
      "7982/7982 [==============================] - 0s 55us/step - loss: 0.6453 - accuracy: 0.8658 - val_loss: 0.9632 - val_accuracy: 0.7990\n",
      "Epoch 6/9\n",
      "7982/7982 [==============================] - 0s 56us/step - loss: 0.5085 - accuracy: 0.8928 - val_loss: 0.9285 - val_accuracy: 0.8090\n",
      "Epoch 7/9\n",
      "7982/7982 [==============================] - 0s 58us/step - loss: 0.4133 - accuracy: 0.9147 - val_loss: 0.9041 - val_accuracy: 0.8080\n",
      "Epoch 8/9\n",
      "7982/7982 [==============================] - 0s 56us/step - loss: 0.3321 - accuracy: 0.9308 - val_loss: 0.8871 - val_accuracy: 0.8250\n",
      "Epoch 9/9\n",
      "7982/7982 [==============================] - 0s 56us/step - loss: 0.2814 - accuracy: 0.9399 - val_loss: 0.8985 - val_accuracy: 0.8170\n"
     ]
    }
   ],
   "source": [
    "model = models.Sequential([\n",
    "    layers.Dense(64, activation='relu', input_shape=(10000,)),\n",
    "    layers.Dense(64, activation='relu'),\n",
    "    layers.Dense(46, activation='softmax')\n",
    "])\n",
    "\n",
    "model.compile(optimizer='rmsprop', loss='categorical_crossentropy', metrics=['accuracy'])\n",
    "\n",
    "history = model.fit(x_train_new, y_train_new, epochs=9, batch_size=512, validation_data=(x_val, y_val))"
   ]
  },
  {
   "cell_type": "code",
   "execution_count": 101,
   "id": "b7fbe2ed-481c-41c4-a335-03592107f9f5",
   "metadata": {},
   "outputs": [
    {
     "name": "stdout",
     "output_type": "stream",
     "text": [
      "2246/2246 [==============================] - 0s 127us/step\n"
     ]
    },
    {
     "data": {
      "text/plain": [
       "[0.9862505669903776, 0.7867319583892822]"
      ]
     },
     "execution_count": 101,
     "metadata": {},
     "output_type": "execute_result"
    }
   ],
   "source": [
    "model.evaluate(x_test, y_test)"
   ]
  },
  {
   "cell_type": "markdown",
   "id": "1a57160b-fc69-48f3-a4a3-ea2a69ea4949",
   "metadata": {},
   "source": [
    "# House Prices"
   ]
  },
  {
   "cell_type": "code",
   "execution_count": 102,
   "id": "0ec5c956-abd7-49b0-92c9-2aab9b75233e",
   "metadata": {},
   "outputs": [
    {
     "name": "stdout",
     "output_type": "stream",
     "text": [
      "Downloading data from https://s3.amazonaws.com/keras-datasets/boston_housing.npz\n",
      "57344/57026 [==============================] - 0s 5us/step\n"
     ]
    }
   ],
   "source": [
    "from keras.datasets import boston_housing\n",
    "(train_data, train_labels), (test_data, test_labels) = boston_housing.load_data()"
   ]
  },
  {
   "cell_type": "code",
   "execution_count": 106,
   "id": "a180a6d4-dbd2-4b0e-9f43-bfbcb0b8992a",
   "metadata": {},
   "outputs": [],
   "source": [
    "mean = train_data.mean(axis=0)\n",
    "std = train_data.std(axis=0)\n",
    "train_data = (train_data - mean) / std\n",
    "test_data = (test_data - mean) / std"
   ]
  },
  {
   "cell_type": "code",
   "execution_count": 107,
   "id": "d57f398d-9b1a-46f4-b69d-5ec92f42e043",
   "metadata": {},
   "outputs": [],
   "source": [
    "def build_model():\n",
    "    model = models.Sequential([\n",
    "        layers.Dense(64, activation='relu', input_shape=(train_data.shape[1], )),\n",
    "        layers.Dense(64, activation='relu'),\n",
    "        layers.Dense(1)\n",
    "    ])\n",
    "    model.compile(optimizer='rmsprop', loss='mse', metrics=['mae'])\n",
    "    return model"
   ]
  },
  {
   "cell_type": "code",
   "execution_count": 121,
   "id": "31a4cb0d-b520-4d49-9f73-054ef5319039",
   "metadata": {},
   "outputs": [
    {
     "name": "stdout",
     "output_type": "stream",
     "text": [
      "Processing Fold 1 ...\n",
      "Processing Fold 2 ...\n",
      "Processing Fold 3 ...\n",
      "Processing Fold 4 ...\n"
     ]
    }
   ],
   "source": [
    "k_fold = 4\n",
    "num_val_samples = len(train_data) // 4\n",
    "epochs = 500\n",
    "all_scores = []\n",
    "for i in range(k_fold):\n",
    "    print(f'Processing Fold {i + 1} ...')\n",
    "    val_data = train_data[i * num_val_samples: (i + 1) * num_val_samples]\n",
    "    val_labels = train_labels[i * num_val_samples: (i + 1) * num_val_samples]\n",
    "    \n",
    "    partial_train_data = np.concatenate((train_data[: i * num_val_samples],\n",
    "                                         train_data[(i + 1) * num_val_samples:]), axis=0)\n",
    "    partial_train_labels = np.concatenate((train_labels[: i * num_val_samples],\n",
    "                                         train_labels[(i + 1) * num_val_samples:]), axis=0)\n",
    "    \n",
    "    model = build_model()\n",
    "    history = model.fit(partial_train_data, partial_train_labels, epochs=epochs,\n",
    "              validation_data=(val_data, val_labels), batch_size=1, verbose=0)\n",
    "    all_scores.append(history.history['val_mae'])"
   ]
  },
  {
   "cell_type": "code",
   "execution_count": 142,
   "id": "3a22e8a4-de4d-4609-a238-b6d34d80cc7e",
   "metadata": {
    "tags": []
   },
   "outputs": [
    {
     "data": {
      "text/plain": [
       "2.565851766884327"
      ]
     },
     "execution_count": 142,
     "metadata": {},
     "output_type": "execute_result"
    }
   ],
   "source": [
    "average_mae_fold = [np.mean([mae[epoch] for mae in all_scores]) for epoch in range(epochs)]\n",
    "np.mean(average_mae_fold)"
   ]
  },
  {
   "cell_type": "code",
   "execution_count": null,
   "id": "6481829b-b546-4cc6-93ea-2dedc4f0cf5f",
   "metadata": {},
   "outputs": [],
   "source": []
  },
  {
   "cell_type": "code",
   "execution_count": null,
   "id": "7dfecc18-56f0-4b1f-ad07-15ad94561f59",
   "metadata": {},
   "outputs": [],
   "source": []
  },
  {
   "cell_type": "code",
   "execution_count": null,
   "id": "73236812-006b-4b01-8161-e17b3f4fc254",
   "metadata": {},
   "outputs": [],
   "source": []
  },
  {
   "cell_type": "code",
   "execution_count": null,
   "id": "1d583ae0-ab51-4386-9540-75eedf0ec6a5",
   "metadata": {},
   "outputs": [],
   "source": []
  }
 ],
 "metadata": {
  "kernelspec": {
   "display_name": "Python 3 (ipykernel)",
   "language": "python",
   "name": "python3"
  },
  "language_info": {
   "codemirror_mode": {
    "name": "ipython",
    "version": 3
   },
   "file_extension": ".py",
   "mimetype": "text/x-python",
   "name": "python",
   "nbconvert_exporter": "python",
   "pygments_lexer": "ipython3",
   "version": "3.7.11"
  }
 },
 "nbformat": 4,
 "nbformat_minor": 5
}
